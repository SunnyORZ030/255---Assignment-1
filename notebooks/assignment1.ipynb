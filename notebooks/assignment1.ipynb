{
  "cells": [
    {
      "cell_type": "markdown",
      "metadata": {},
      "source": [
        "# Assignment 1 \u2014 End-to-End Data Science with ChatGPT\n",
        "**Dataset**: (name + link)\n",
        "**Task**: (classification/regression)\n",
        "**Goal Metric**: (F1 / ROC-AUC / RMSE / MAE)\n"
      ]
    },
    {
      "cell_type": "code",
      "execution_count": null,
      "metadata": {},
      "outputs": [],
      "source": [
        "import numpy as np, pandas as pd\n",
        "import matplotlib.pyplot as plt\n",
        "from pathlib import Path\n",
        "RANDOM_STATE=42\n",
        "ARTIFACTS=Path('../artifacts'); ARTIFACTS.mkdir(exist_ok=True, parents=True)\n",
        "RESULTS=Path('../results'); RESULTS.mkdir(exist_ok=True, parents=True)\n",
        "print('Setup complete')\n"
      ]
    },
    {
      "cell_type": "markdown",
      "metadata": {},
      "source": [
        "## 1) Load Data & Inspect"
      ]
    },
    {
      "cell_type": "code",
      "execution_count": null,
      "metadata": {},
      "outputs": [],
      "source": [
        "df = pd.read_csv('/content/<your_file>.csv')  # TODO\n",
        "df.head()\n"
      ]
    },
    {
      "cell_type": "markdown",
      "metadata": {},
      "source": [
        "## 2) Split Train/Dev/Test"
      ]
    },
    {
      "cell_type": "code",
      "execution_count": null,
      "metadata": {},
      "outputs": [],
      "source": [
        "from sklearn.model_selection import train_test_split\n",
        "TARGET='<target>'\n",
        "X=df.drop(columns=[TARGET]); y=df[TARGET]\n",
        "X_train, X_temp, y_train, y_temp = train_test_split(X,y,test_size=0.2,random_state=RANDOM_STATE)\n",
        "X_dev, X_test, y_dev, y_test = train_test_split(X_temp,y_temp,test_size=0.5,random_state=RANDOM_STATE)\n",
        "X_train.shape, X_dev.shape, X_test.shape\n"
      ]
    },
    {
      "cell_type": "markdown",
      "metadata": {},
      "source": [
        "## 3) Preprocess + Baseline"
      ]
    },
    {
      "cell_type": "code",
      "execution_count": null,
      "metadata": {},
      "outputs": [],
      "source": [
        "from sklearn.pipeline import Pipeline\n",
        "from sklearn.compose import ColumnTransformer\n",
        "from sklearn.impute import SimpleImputer\n",
        "from sklearn.preprocessing import OneHotEncoder, StandardScaler\n",
        "from sklearn.linear_model import LogisticRegression, LinearRegression\n",
        "from sklearn.metrics import f1_score, mean_squared_error\n",
        "\n",
        "num_cols = X.select_dtypes(include=['int64','float64']).columns\n",
        "cat_cols = X.select_dtypes(include=['object','category','bool']).columns\n",
        "preprocess = ColumnTransformer([\n",
        "    ('num', Pipeline([('imp', SimpleImputer(strategy='median')), ('sc', StandardScaler(with_mean=False))]), num_cols),\n",
        "    ('cat', Pipeline([('imp', SimpleImputer(strategy='most_frequent')), ('oh', OneHotEncoder(handle_unknown='ignore'))]), cat_cols)\n",
        "])\n",
        "IS_CLASS = y.nunique()<20 and y.dtype!='float'\n",
        "model = LogisticRegression(max_iter=1000) if IS_CLASS else LinearRegression()\n",
        "pipe = Pipeline([('prep', preprocess), ('model', model)])\n",
        "pipe.fit(X_train, y_train)\n",
        "pred = pipe.predict(X_dev)\n",
        "score = f1_score(y_dev, pred, average='macro') if IS_CLASS else mean_squared_error(y_dev, pred, squared=False)\n",
        "print('Baseline score:', score)\n"
      ]
    },
    {
      "cell_type": "markdown",
      "metadata": {},
      "source": [
        "## 4) Save Artifacts & Summary"
      ]
    },
    {
      "cell_type": "code",
      "execution_count": null,
      "metadata": {},
      "outputs": [],
      "source": [
        "import pandas as pd\n",
        "pd.DataFrame({'metric':[float(score)]}).to_csv(RESULTS/'summary.csv', index=False)\n",
        "print('Saved to results/summary.csv')\n"
      ]
    }
  ],
  "metadata": {
    "kernelspec": {
      "display_name": "Python 3",
      "language": "python",
      "name": "python3"
    },
    "language_info": {
      "name": "python",
      "version": "3.10"
    }
  },
  "nbformat": 4,
  "nbformat_minor": 5
}